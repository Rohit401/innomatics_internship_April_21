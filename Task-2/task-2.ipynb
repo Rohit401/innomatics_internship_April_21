{
 "cells": [
  {
   "cell_type": "code",
   "execution_count": null,
   "metadata": {},
   "outputs": [],
   "source": [
    "#Question 1--List Comprehensions2\n",
    "\n",
    "x=int(input())\n",
    "y=int(input())\n",
    "z=int(input())\n",
    "N=int(input())\n",
    "A=([[a,b,c] for a in range(x+1) for b in range(y+1) for c in range(z+1) if a + b + c != N ]) \n",
    "print(A)"
   ]
  },
  {
   "cell_type": "code",
   "execution_count": null,
   "metadata": {},
   "outputs": [],
   "source": [
    "#Question 2--Find the Runner-Up Score!\n",
    "   #only in python3\n",
    "    \n",
    "n=int(input())\n",
    "arr=list(map(int,input().split()))\n",
    "arr.sort()\n",
    "#print()\n",
    "print(arr[(arr.index(max(arr)))-1])\n",
    "\n",
    "  \n",
    "    #only in python2\n",
    "\n",
    "n = int(raw_input())\n",
    "arr = map(int, raw_input().split())\n",
    "a=max(arr)\n",
    "    #print(a)\n",
    "b=arr.count(a)\n",
    "for i in range(b):\n",
    "    arr.remove(a)\n",
    "    #print((arr))\n",
    "    #print(b)\n",
    "print(max(arr))\n",
    "\n",
    "    "
   ]
  },
  {
   "cell_type": "code",
   "execution_count": null,
   "metadata": {},
   "outputs": [],
   "source": [
    "#Question 3--Nested Lists\n",
    "\n",
    "dict={}\n",
    "s=list()\n",
    "for _ in range(int(input())):\n",
    "    name = input()\n",
    "    score = float(input())\n",
    "    if score in dict:\n",
    "        dict[score].append(name)\n",
    "    else:\n",
    "        dict[score]=[name]\n",
    "    if score not in s:\n",
    "        s.append(score)\n",
    "            \n",
    "m=min(s)\n",
    "s.remove(m)\n",
    "m1=min(s) \n",
    "dict[m1].sort()\n",
    "for i in dict[m1]:\n",
    "    print(i)   "
   ]
  },
  {
   "cell_type": "code",
   "execution_count": null,
   "metadata": {},
   "outputs": [],
   "source": [
    "#Question 4--Finding the percentage\n",
    "#if __name__ == '__main__':\n",
    "n = int(input())\n",
    "student_marks = {}\n",
    "for _ in range(n):\n",
    "    name, *line = input().split()\n",
    "    scores = list(map(float, line))\n",
    "    student_marks[name] = scores\n",
    "    query_name = input()\n",
    "s=0 \n",
    "for i in student_marks[query_name]:\n",
    "    s=s+i\n",
    "print(\"{0:.2f}\".format(s/3))"
   ]
  },
  {
   "cell_type": "code",
   "execution_count": null,
   "metadata": {},
   "outputs": [],
   "source": [
    "#Question 5--Lists\n",
    "#if __name__ == '__main__':\n",
    "N = int(input())\n",
    "arr=[] #ideal list perform functions on it\n",
    "for i in range(N):\n",
    "    s=input().split() \n",
    "        #s=['insert','0']\n",
    "    for i in range(1,len(s)):\n",
    "        s[i]=int(s[i])\n",
    "    if s[0]==\"append\":\n",
    "        arr.append(s[1])\n",
    "    elif s[0]==\"insert\":\n",
    "        arr.insert(s[1],s[2])\n",
    "    elif s[0]==\"remove\":\n",
    "        arr.remove(s[1])\n",
    "    elif s[0]==\"pop\":\n",
    "        arr.pop() \n",
    "    elif s[0]==\"sort\":\n",
    "        arr.sort()\n",
    "    elif s[0]==\"reverse\":\n",
    "        arr.reverse()\n",
    "    elif s[0]==\"print\":\n",
    "        print(arr)\n"
   ]
  },
  {
   "cell_type": "code",
   "execution_count": null,
   "metadata": {},
   "outputs": [],
   "source": [
    "#Question 6 --Tuples\n",
    "if __name__ == '__main__':\n",
    "    n = int(input())\n",
    "    integer_list = tuple(map(int, input().split()))\n",
    "    #here i don't use list then use tuple function\n",
    "    print(hash(integer_list))"
   ]
  },
  {
   "cell_type": "code",
   "execution_count": null,
   "metadata": {},
   "outputs": [],
   "source": [
    "#Question 7--Introduction to Sets\n",
    "def average(array):\n",
    "    # your code goes here\n",
    "    #print(array)\n",
    "    #print(sum(array))\n",
    "    #print(len(array))\n",
    "    array=set(array)\n",
    "    return sum((array))/len(array)\n",
    "\n",
    "if __name__ == '__main__':\n",
    "    n = int(input())\n",
    "    arr = list(map(int, input().split()))\n",
    "    result = average(arr)\n",
    "    print(result)\n"
   ]
  },
  {
   "cell_type": "code",
   "execution_count": null,
   "metadata": {},
   "outputs": [],
   "source": [
    "#Question 8--Symmetric Difference\n",
    "m=int(input())\n",
    "m_set=set(map(int,input().split()))\n",
    "n=int(input())\n",
    "n_set=set(map(int,input().split()))\n",
    "m1=m_set.difference(n_set)\n",
    "n1=n_set.difference(m_set)\n",
    "result=list(m1)+list(n1)\n",
    "result=sorted(result)\n",
    "print(*result,sep='\\n')"
   ]
  },
  {
   "cell_type": "code",
   "execution_count": null,
   "metadata": {},
   "outputs": [],
   "source": [
    "#Question 9--Set .add()\n",
    "\n",
    "n=int(input())\n",
    "set1=set()\n",
    "for i in range(n):\n",
    "    set1.add(input())\n",
    "print(len(set1))"
   ]
  },
  {
   "cell_type": "code",
   "execution_count": null,
   "metadata": {},
   "outputs": [],
   "source": [
    "#Question 10--Set .discard(), .remove() & .pop()\n",
    "\n",
    "n = int(input())\n",
    "s = set(map(int, input().split()))\n",
    "m=int(input())\n",
    "for i in range(m):\n",
    "    s1=list(input().split())\n",
    "    if s1[0]==\"pop\":\n",
    "        s.pop()\n",
    "    elif s1[0]==\"remove\":\n",
    "        s.remove(int(s1[1]))\n",
    "    elif s1[0]==\"discard\":\n",
    "        s.discard(int(s1[1]))\n",
    "sum=0\n",
    "for i in s:\n",
    "    sum=sum+i\n",
    "print(sum)"
   ]
  },
  {
   "cell_type": "code",
   "execution_count": null,
   "metadata": {},
   "outputs": [],
   "source": [
    "#Question 11--Set .union() Operation\n",
    "m=int(input())\n",
    "m_set=set(map(int,input().split()))\n",
    "n=int(input())\n",
    "n_set=set(map(int,input().split()))\n",
    "ans=m_set.union(n_set)\n",
    "count=0\n",
    "for i in ans:\n",
    "    count=count+1\n",
    "print(count)"
   ]
  },
  {
   "cell_type": "code",
   "execution_count": 2,
   "metadata": {},
   "outputs": [
    {
     "name": "stdout",
     "output_type": "stream",
     "text": [
      "2\n",
      "3\n",
      "2\n",
      "3\n",
      "1\n"
     ]
    }
   ],
   "source": [
    "#Question 12--Set.intersection() Operation\n",
    "m=int(input())\n",
    "m_set=set(map(int,input().split()))\n",
    "n=int(input())\n",
    "n_set=set(map(int,input().split()))\n",
    "ans=m_set.intersection(n_set)\n",
    "count=0\n",
    "for i in ans:\n",
    "    count=count+1\n",
    "print(count)"
   ]
  },
  {
   "cell_type": "code",
   "execution_count": null,
   "metadata": {},
   "outputs": [],
   "source": [
    "#Question 13--Set.difference() Operation\n",
    "c=0\n",
    "m=int(input())\n",
    "m_set=set(map(int,input().split()))\n",
    "n=int(input())\n",
    "n_set=set(map(int,input().split()))\n",
    "l=m_set-n_set\n",
    "print(len(l))"
   ]
  },
  {
   "cell_type": "code",
   "execution_count": null,
   "metadata": {},
   "outputs": [],
   "source": [
    "#Question 14--Set.Symmetric Difference() Operation\n",
    "_=input()\n",
    "a1=set(map(int,input().split()))\n",
    "_=input()\n",
    "b1=set(map(int,input().split()))\n",
    "print(len(a1.symmetric_difference(b1)))\n"
   ]
  },
  {
   "cell_type": "code",
   "execution_count": null,
   "metadata": {},
   "outputs": [],
   "source": [
    "#Question 15--No idea\n",
    "_=input()\n",
    "happiness=0\n",
    "arr=list(map(int,input().split()))\n",
    "A=set(map(int,input().split()))\n",
    "B=set(map(int,input().split()))\n",
    "for i in arr:\n",
    "    if i in A:\n",
    "        happiness +=1\n",
    "    elif i in B:\n",
    "        happiness -=1\n",
    "print(happiness)"
   ]
  },
  {
   "cell_type": "code",
   "execution_count": null,
   "metadata": {},
   "outputs": [],
   "source": [
    "#Question 16--Set Mutations\n",
    "a=int(input())\n",
    "b=set(map(int,input().split()))\n",
    "n = int(input())\n",
    "for i in range(n):\n",
    "    k,l=input().split()\n",
    "    l1=set(map(int,input().split()))\n",
    "    eval(\"b.{0}({1})\".format(k,l1))\n",
    "print(sum(b))"
   ]
  },
  {
   "cell_type": "code",
   "execution_count": null,
   "metadata": {},
   "outputs": [],
   "source": [
    "#Question 17--The Captain's Room\n",
    "A=input()\n",
    "a=input().split()\n",
    "s=set()\n",
    "t=set()\n",
    "for i in a:\n",
    "    if i not in s:\n",
    "        s.add(i)\n",
    "        t.add(i)\n",
    "    else:\n",
    "        t.discard(i)\n",
    "print(t.pop())      \n"
   ]
  },
  {
   "cell_type": "code",
   "execution_count": null,
   "metadata": {},
   "outputs": [],
   "source": [
    "#Question 18--Check Subset\n",
    "for i in range(int(input())):\n",
    "    a=int(input())\n",
    "    A=set(input().split())\n",
    "    b=int(input())\n",
    "    B=set(input().split())\n",
    "    print(A.issubset(B))\n"
   ]
  },
  {
   "cell_type": "code",
   "execution_count": null,
   "metadata": {},
   "outputs": [],
   "source": [
    "#Question 19--Check Strict Superset\n",
    "\n",
    "a=set(map(int,input().split()))\n",
    "n=int(input())\n",
    "val=\"\"\n",
    "for i in range(n):\n",
    "    l=set(map(int,input().split()))\n",
    "    if len(l.difference(a))==0:\n",
    "        val=\"True\"\n",
    "    else:\n",
    "        val=\"False\"\n",
    "        break\n",
    "print(val)  "
   ]
  },
  {
   "cell_type": "code",
   "execution_count": null,
   "metadata": {},
   "outputs": [],
   "source": []
  }
 ],
 "metadata": {
  "kernelspec": {
   "display_name": "Python 3",
   "language": "python",
   "name": "python3"
  },
  "language_info": {
   "codemirror_mode": {
    "name": "ipython",
    "version": 3
   },
   "file_extension": ".py",
   "mimetype": "text/x-python",
   "name": "python",
   "nbconvert_exporter": "python",
   "pygments_lexer": "ipython3",
   "version": "3.8.5"
  }
 },
 "nbformat": 4,
 "nbformat_minor": 4
}
