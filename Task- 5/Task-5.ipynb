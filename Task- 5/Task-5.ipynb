{
 "cells": [
  {
   "cell_type": "code",
   "execution_count": 1,
   "metadata": {},
   "outputs": [
    {
     "name": "stdout",
     "output_type": "stream",
     "text": [
      "4\n",
      "7.89\n",
      "True\n",
      "-9.76\n",
      "True\n",
      "+8.90\n",
      "True\n",
      "7.854\n",
      "True\n"
     ]
    }
   ],
   "source": [
    "#Question 1--Detect Floating Point Number\n",
    "import re\n",
    "n=int(input())\n",
    "pattern=r'^[+-]?[0-9]*\\.[0-9]+$'\n",
    "for i in range(n):\n",
    "    s=input()\n",
    "    print(bool(re.match(pattern,s)))"
   ]
  },
  {
   "cell_type": "code",
   "execution_count": 2,
   "metadata": {},
   "outputs": [
    {
     "name": "stdout",
     "output_type": "stream",
     "text": [
      "138,7889,098.5676\n",
      "138\n",
      "7889\n",
      "098\n",
      "5676\n"
     ]
    }
   ],
   "source": [
    "#Question 2--Re.split()\n",
    "regex_pattern = r\"[,.]\"\n",
    "# Do not delete 'r'\n",
    "\n",
    "import re\n",
    "print(\"\\n\".join(re.split(regex_pattern, input())))\n"
   ]
  },
  {
   "cell_type": "code",
   "execution_count": 3,
   "metadata": {},
   "outputs": [
    {
     "name": "stdout",
     "output_type": "stream",
     "text": [
      "4566674..58434467\n",
      "6\n"
     ]
    }
   ],
   "source": [
    "#Question 3--Group(), Groups() & Groupdict()\n",
    "import re\n",
    "s=input()\n",
    "pattern=r'([a-z A-Z 0-9])\\1'\n",
    "m=re.search(pattern,s)\n",
    "#print(m.groups()[0])\n",
    "if m:\n",
    "    print(m.groups()[0])\n",
    "else:\n",
    "    print(-1)\n"
   ]
  },
  {
   "cell_type": "code",
   "execution_count": 4,
   "metadata": {},
   "outputs": [
    {
     "name": "stdout",
     "output_type": "stream",
     "text": [
      "dghjETGvjhkcffnvg\n",
      "-1\n"
     ]
    }
   ],
   "source": [
    "#Question 4--Re.findall() & Re.finditer()\n",
    "\n",
    "import re\n",
    "s=input()\n",
    "v=\"aeiou\"\n",
    "c=\"bcdfghjklmnpqrstvwxyz\"\n",
    "l=re.findall(r\"(?<=[%s])([%s]{2,})[%s]\" % (c,v,c),s,flags=re.IGNORECASE)\n",
    "#print(l)\n",
    "#If no match is found, print -1.\n",
    "if not l:\n",
    "    print(-1)\n",
    "else:\n",
    "    for i in l:\n",
    "        print(i)"
   ]
  },
  {
   "cell_type": "code",
   "execution_count": 5,
   "metadata": {},
   "outputs": [
    {
     "name": "stdout",
     "output_type": "stream",
     "text": [
      "\n",
      "dhteqq\n",
      "(-1, -1)\n"
     ]
    }
   ],
   "source": [
    "#Question 5--Re.start() & Re.end()\n",
    "\n",
    "import re\n",
    "a=input()\n",
    "b=input()\n",
    "pattern=re.compile(b)\n",
    "c=pattern.search(a)\n",
    "if not c:\n",
    "    print(\"(-1, -1)\")\n",
    "else:\n",
    "    while c:\n",
    "        print(\"({0}, {1})\".format(c.start() , c.end()-1))\n",
    "        c=pattern.search(a,c.start()+1)"
   ]
  },
  {
   "cell_type": "code",
   "execution_count": 6,
   "metadata": {},
   "outputs": [
    {
     "name": "stdout",
     "output_type": "stream",
     "text": [
      "CDXXI\n",
      "True\n"
     ]
    }
   ],
   "source": [
    "#Question 6--Validating Roman Numerals\n",
    "regex_pattern = r\"^M{0,3}(CM|CD|D?C{0,3})(XC|XL|L?X{0,3})(IX|IV|V?I{0,3})$\"\t# Do not delete 'r'.\n",
    "\n",
    "import re\n",
    "print(str(bool(re.match(regex_pattern, input()))))\n"
   ]
  },
  {
   "cell_type": "code",
   "execution_count": 7,
   "metadata": {},
   "outputs": [
    {
     "name": "stdout",
     "output_type": "stream",
     "text": [
      "2\n",
      "7487906433\n",
      "YES\n",
      "2578799324\n",
      "NO\n"
     ]
    }
   ],
   "source": [
    "#Question 7--Validating phone numbers\n",
    "import re\n",
    "def check(contact):\n",
    "    pattern=\"[789]\\d{9}$\"\n",
    "    if re.match(pattern,contact):\n",
    "        return \"YES\"\n",
    "    else:\n",
    "        return \"NO\"\n",
    "    \n",
    "n=int(input())\n",
    "for i in range(n):\n",
    "    print(check(input()))\n",
    "\n"
   ]
  },
  {
   "cell_type": "code",
   "execution_count": 10,
   "metadata": {},
   "outputs": [
    {
     "name": "stdout",
     "output_type": "stream",
     "text": [
      "2\n",
      "DEXTER <dexter@hotmail.com>\n",
      "DEXTER <dexter@hotmail.com>\n",
      "VIRUS <virus!@variable.:p>\n"
     ]
    }
   ],
   "source": [
    "#Question 8--Validating and Parsing Email Addresses\n",
    "import re\n",
    "#no.of emails to validate\n",
    "n=int(input())\n",
    "for i in range (n):\n",
    "    #take name and email address line\n",
    "    line=input()\n",
    "    #separate name and email\n",
    "    name,email=line.split(\" \")\n",
    "    #pattern and validating\n",
    "    pattern=\"<[a-z][a-zA-Z0-9\\-\\.\\_]+@[a-zA-Z]+\\.[a-zA-Z]{1,3}>\"\n",
    "    if bool(re.match(pattern,email)):\n",
    "        print(name,email)\n",
    "\n"
   ]
  },
  {
   "cell_type": "code",
   "execution_count": null,
   "metadata": {},
   "outputs": [],
   "source": [
    "#Question 9--Hex Color Code\n",
    "import re\n",
    "in_cs=False\n",
    "#get no.of lines and loop through\n",
    "n=int(input())\n",
    "for _ in range(n):\n",
    "    #get line and check for color code\n",
    "    line=input()\n",
    "    if '{' in line:\n",
    "        in_cs=True\n",
    "    elif '}' in line:\n",
    "        in_cs=False\n",
    "    elif in_cs:\n",
    "    for color in re.findall('#[0-9a-fA-F]{3,6}',line):\n",
    "        print(color)\n",
    "\n"
   ]
  },
  {
   "cell_type": "code",
   "execution_count": null,
   "metadata": {},
   "outputs": [],
   "source": [
    "#Question 10--HTML Parser - Part 1\n",
    "from html.parser import HTMLParser\n",
    "#defining a custom class by inherting fron htmlparser\n",
    "# create a subclass and override the handler methods\n",
    "class MyHTMLParser(HTMLParser):\n",
    "    #overriding handle_starttag with our requirement\n",
    "    def handle_starttag(self, tag, attrs):\n",
    "        print (\"Start :\", tag)\n",
    "        for attr in attrs:\n",
    "            print('->',' > '.join(map(str,attr)))\n",
    "        #overriding handle_endtag with our requirement    \n",
    "    def handle_endtag(self, tag):\n",
    "        print (\"End   :\", tag)\n",
    "        #overriding handle_startendtag with our requirement\n",
    "    def handle_startendtag(self, tag, attrs):\n",
    "        print (\"Empty :\", tag)\n",
    "        for attr in attrs:\n",
    "            print('->',' > '.join(map(str,attr)))\n",
    "#get all html lines\n",
    "html=\"\"\n",
    "for i in range(int(input())):\n",
    "    html +=input()\n",
    "# instantiate the parser and fed it some HTML\n",
    "parser = MyHTMLParser()\n",
    "parser.feed(html)\n",
    "parser.close()\n",
    "\n"
   ]
  },
  {
   "cell_type": "code",
   "execution_count": null,
   "metadata": {},
   "outputs": [],
   "source": [
    "#Question 11--HTML Parser - Part 2\n",
    "from html.parser import HTMLParser\n",
    "class myHTMLParser(HTMLParser):\n",
    "    def handle_comment(self, data):\n",
    "        number_of_line = len(data.split('\\n'))\n",
    "        if number_of_line>1:\n",
    "            print('>>> Multi-line Comment')\n",
    "        else:\n",
    "            print('>>> Single-line Comment')\n",
    "        if data.strip():\n",
    "            print(data)\n",
    "\n",
    "    def handle_data(self, data):\n",
    "        if data.strip():\n",
    "            print(\">>> Data\")\n",
    "            print(data)\n",
    "\n",
    "parser = myHTMLParser()\n",
    "\n",
    "n = int(input())\n",
    "\n",
    "html_string = ''\n",
    "for i in range(n):\n",
    "    html_string += input().rstrip()+'\\n'\n",
    "    \n",
    "parser.feed(html_string)\n",
    "parser.close()\n"
   ]
  },
  {
   "cell_type": "code",
   "execution_count": null,
   "metadata": {},
   "outputs": [],
   "source": [
    "#Question 12--Detect HTML Tags, Attributes and Attribute Values\n",
    "from html.parser import HTMLParser\n",
    "\n",
    "class MyHTMLParser(HTMLParser):\n",
    "    def handle_starttag(self, tag, attrs):\n",
    "        print(tag)\n",
    "        for attr in attrs:\n",
    "            print(\"->\", attr[0], \">\", attr[1])\n",
    "\n",
    "parser = MyHTMLParser()\n",
    "\n",
    "for i in range(int(input())):\n",
    "    parser.feed(input())\n",
    "\n"
   ]
  },
  {
   "cell_type": "code",
   "execution_count": null,
   "metadata": {},
   "outputs": [],
   "source": [
    "#Question 13--Validating UID\n",
    "import re\n",
    "for i in range(int(input())):\n",
    "    n=input().strip()\n",
    "    if n.isalnum() and len(n)== 10:\n",
    "        if bool(re.search(r'(.*[A-Z]){2,}',n)) and bool(re.search(r'(.*[0-9]){3,}',n)):\n",
    "            if re.search(r'.*(.).*\\1+.*',n):\n",
    "                print('Invalid')\n",
    "            else:\n",
    "                print('Valid')\n",
    "        else:\n",
    "                print('Invalid')\n",
    "    else:\n",
    "        print('Invalid')\n",
    "\n"
   ]
  },
  {
   "cell_type": "code",
   "execution_count": null,
   "metadata": {},
   "outputs": [],
   "source": [
    "#Question 14--Validating Credit Card Numbers\n",
    "import re\n",
    "for i in range(int(input())):\n",
    "    n=input().strip()\n",
    "    try:\n",
    "        assert re.match(r'(\\d{4}-){3}\\d{4}$', n) or re.match(r'\\d{16}$',n)\n",
    "        n=re.sub(r'-','',n)\n",
    "        assert re.match(r'[456]',n)\n",
    "        assert not re.search(r'(\\d)\\1{3,}',n)\n",
    "    except:\n",
    "        print('Invalid')\n",
    "    else:\n",
    "        print('Valid')\n"
   ]
  },
  {
   "cell_type": "code",
   "execution_count": null,
   "metadata": {},
   "outputs": [],
   "source": [
    "#Question 15--Validating Postal Codes\n",
    "regex_integer_in_range = r'^[1-9][\\d]{5}$'    # Do not delete 'r'.\n",
    "regex_alternating_repetitive_digit_pair = r'(\\d)(?=\\d\\1)'   # Do not delete 'r'.\n",
    "\n",
    "\n",
    "import re\n",
    "P = input()\n",
    "\n",
    "print (bool(re.match(regex_integer_in_range, P)) \n",
    "and len(re.findall(regex_alternating_re\n"
   ]
  },
  {
   "cell_type": "code",
   "execution_count": null,
   "metadata": {},
   "outputs": [],
   "source": [
    "#Question 16--Matrix Script\n",
    "import math\n",
    "import os\n",
    "import random\n",
    "import re\n",
    "import sys\n",
    "n,m=map(int,input().split())\n",
    "l=list()\n",
    "for i in range(n):\n",
    "    l.append(input())\n",
    "#print(l)\n",
    "l=list(zip(*l))\n",
    "#print(l)  \n",
    "s=''\n",
    "for i in l:\n",
    "    s=s+''.join(i)\n",
    "#print(s)  \n",
    "s=re.sub(r'\\b[^a-zA-Z0-9]+\\b',r' ',s)\n",
    "print(s)   \n"
   ]
  },
  {
   "cell_type": "code",
   "execution_count": null,
   "metadata": {},
   "outputs": [],
   "source": [
    "#Question 17--Regex Substitution\n",
    "import re\n",
    "\n",
    "pattern = r\"(?<= )(&&|\\|\\|)(?= )\"\n",
    "replacement=lambda x:\"and\" if x.group() ==\"&&\" else \"or\"\n",
    "\n",
    "for i in range (int(input())):\n",
    "    s=input()\n",
    "    print(re.sub(pattern,replacement,s))\n"
   ]
  },
  {
   "cell_type": "code",
   "execution_count": null,
   "metadata": {},
   "outputs": [],
   "source": []
  }
 ],
 "metadata": {
  "kernelspec": {
   "display_name": "Python 3",
   "language": "python",
   "name": "python3"
  },
  "language_info": {
   "codemirror_mode": {
    "name": "ipython",
    "version": 3
   },
   "file_extension": ".py",
   "mimetype": "text/x-python",
   "name": "python",
   "nbconvert_exporter": "python",
   "pygments_lexer": "ipython3",
   "version": "3.8.5"
  }
 },
 "nbformat": 4,
 "nbformat_minor": 4
}
